{
  "nbformat": 4,
  "nbformat_minor": 0,
  "metadata": {
    "colab": {
      "provenance": [],
      "gpuType": "T4"
    },
    "kernelspec": {
      "name": "python3",
      "display_name": "Python 3"
    },
    "language_info": {
      "name": "python"
    },
    "accelerator": "GPU"
  },
  "cells": [
    {
      "cell_type": "code",
      "source": [
        "from google.colab import drive\n",
        "drive.mount('/content/drive')"
      ],
      "metadata": {
        "id": "ZygN87NMREum",
        "colab": {
          "base_uri": "https://localhost:8080/"
        },
        "outputId": "9e9c2ea1-2be2-4a27-b722-032ee4eb9790"
      },
      "execution_count": null,
      "outputs": [
        {
          "output_type": "stream",
          "name": "stdout",
          "text": [
            "Mounted at /content/drive\n"
          ]
        }
      ]
    },
    {
      "cell_type": "code",
      "source": [
        "!pip install keras_preprocessing"
      ],
      "metadata": {
        "colab": {
          "base_uri": "https://localhost:8080/"
        },
        "id": "nmUViUDfdl7h",
        "outputId": "16b946fd-e6c3-4603-edd0-698ec8d82e5e"
      },
      "execution_count": null,
      "outputs": [
        {
          "output_type": "stream",
          "name": "stdout",
          "text": [
            "Collecting keras_preprocessing\n",
            "  Downloading Keras_Preprocessing-1.1.2-py2.py3-none-any.whl (42 kB)\n",
            "\u001b[?25l     \u001b[90m━━━━━━━━━━━━━━━━━━━━━━━━━━━━━━━━━━━━━━━━\u001b[0m \u001b[32m0.0/42.6 kB\u001b[0m \u001b[31m?\u001b[0m eta \u001b[36m-:--:--\u001b[0m\r\u001b[2K     \u001b[90m━━━━━━━━━━━━━━━━━━━━━━━━━━━━━━━━━━━━━━━━\u001b[0m \u001b[32m42.6/42.6 kB\u001b[0m \u001b[31m2.2 MB/s\u001b[0m eta \u001b[36m0:00:00\u001b[0m\n",
            "\u001b[?25hRequirement already satisfied: numpy>=1.9.1 in /usr/local/lib/python3.10/dist-packages (from keras_preprocessing) (1.25.2)\n",
            "Requirement already satisfied: six>=1.9.0 in /usr/local/lib/python3.10/dist-packages (from keras_preprocessing) (1.16.0)\n",
            "Installing collected packages: keras_preprocessing\n",
            "Successfully installed keras_preprocessing-1.1.2\n"
          ]
        }
      ]
    },
    {
      "cell_type": "code",
      "source": [
        "import os\n",
        "import pandas as pd\n",
        "import numpy as np\n",
        "from tqdm import tqdm\n",
        "import keras\n",
        "from keras.utils import to_categorical\n",
        "import cv2\n",
        "import tensorflow as tf\n",
        "from sklearn.model_selection import train_test_split\n",
        "from keras.layers import  Flatten, Dense, Dropout\n",
        "from keras.callbacks import ModelCheckpoint, ReduceLROnPlateau\n",
        "from keras.applications import ResNet50\n",
        "from keras.models import Model\n",
        "from keras.layers import Input\n",
        "from keras import optimizers\n",
        "from keras.optimizers import Adam\n",
        "from keras.layers import Dense, GlobalAveragePooling2D\n",
        "from keras.layers import Dense, Dropout, Flatten, Conv2D, MaxPool2D, BatchNormalization, AveragePooling2D, GlobalAveragePooling2D\n",
        "import keras_preprocessing\n",
        "from keras_preprocessing import image\n",
        "from keras_preprocessing.image import ImageDataGenerator\n",
        "from keras import callbacks\n",
        "import matplotlib.pyplot as plt\n",
        "from sklearn.metrics import confusion_matrix\n",
        "import seaborn as sns"
      ],
      "metadata": {
        "id": "DvAx1pIGcqQZ"
      },
      "execution_count": null,
      "outputs": []
    },
    {
      "cell_type": "code",
      "source": [
        "%tensorflow_version 2.x\n",
        "print(tf.__version__)\n",
        "print(tf.test.gpu_device_name())\n",
        "print(\"Num GPUs Available: \", len(tf.config.experimental.list_physical_devices('GPU')))"
      ],
      "metadata": {
        "colab": {
          "base_uri": "https://localhost:8080/"
        },
        "id": "D7u9NJpOea72",
        "outputId": "793907ec-15ad-42e6-9821-758bfad748a3"
      },
      "execution_count": null,
      "outputs": [
        {
          "output_type": "stream",
          "name": "stdout",
          "text": [
            "Colab only includes TensorFlow 2.x; %tensorflow_version has no effect.\n",
            "2.15.0\n",
            "/device:GPU:0\n",
            "Num GPUs Available:  1\n"
          ]
        }
      ]
    },
    {
      "cell_type": "code",
      "source": [
        "%cd /content/drive/\"My Drive\"/\"Covid-dataset\""
      ],
      "metadata": {
        "colab": {
          "base_uri": "https://localhost:8080/"
        },
        "id": "EBbEEm3WfKQK",
        "outputId": "69fcf6d2-e74b-493d-86c8-5f56abaab371"
      },
      "execution_count": null,
      "outputs": [
        {
          "output_type": "stream",
          "name": "stdout",
          "text": [
            "/content/drive/My Drive/Covid-dataset\n"
          ]
        }
      ]
    },
    {
      "cell_type": "code",
      "source": [
        "os.environ['KAGGLE_CONFIG_DIR'] = \"/drive/MyDrive/Covid-dataset\"\n",
        "!kaggle datasets download -d plameneduardo/sarscov2-ctscan-dataset\n",
        "!unzip \\*.zip  && rm *.zip"
      ],
      "metadata": {
        "colab": {
          "base_uri": "https://localhost:8080/"
        },
        "id": "nx3qzEKgi4X1",
        "outputId": "375a62fd-52d0-4183-fe8a-7d057cc74396"
      },
      "execution_count": null,
      "outputs": [
        {
          "output_type": "stream",
          "name": "stdout",
          "text": [
            "Traceback (most recent call last):\n",
            "  File \"/usr/local/bin/kaggle\", line 5, in <module>\n",
            "    from kaggle.cli import main\n",
            "  File \"/usr/local/lib/python3.10/dist-packages/kaggle/__init__.py\", line 23, in <module>\n",
            "    api.authenticate()\n",
            "  File \"/usr/local/lib/python3.10/dist-packages/kaggle/api/kaggle_api_extended.py\", line 403, in authenticate\n",
            "    raise IOError('Could not find {}. Make sure it\\'s located in'\n",
            "OSError: Could not find kaggle.json. Make sure it's located in /drive/MyDrive/Covid-dataset. Or use the environment method.\n",
            "unzip:  cannot find or open *.zip, *.zip.zip or *.zip.ZIP.\n",
            "\n",
            "No zipfiles found.\n"
          ]
        }
      ]
    },
    {
      "cell_type": "code",
      "source": [
        "disease_types=['COVID', 'non-COVID']\n",
        "data_dir = '/content/drive/MyDrive/Covid-dataset'\n",
        "train_dir = os.path.join(data_dir)"
      ],
      "metadata": {
        "id": "Dol0b0fbmpNa"
      },
      "execution_count": null,
      "outputs": []
    },
    {
      "cell_type": "code",
      "source": [
        "train_data = []\n",
        "for defects_id, sp in enumerate(disease_types):\n",
        "    for file in os.listdir(os.path.join(train_dir, sp)):\n",
        "        train_data.append(['{}/{}'.format(sp, file), defects_id, sp])\n",
        "train = pd.DataFrame(train_data, columns=['File', 'DiseaseID','Disease Type'])"
      ],
      "metadata": {
        "id": "tWxH_YcnmwdD"
      },
      "execution_count": null,
      "outputs": []
    },
    {
      "cell_type": "code",
      "source": [
        "train"
      ],
      "metadata": {
        "colab": {
          "base_uri": "https://localhost:8080/",
          "height": 423
        },
        "id": "OD1UCgLXJ1UD",
        "outputId": "90282c2c-39c0-43d1-d43a-22269db5a0a8"
      },
      "execution_count": null,
      "outputs": [
        {
          "output_type": "execute_result",
          "data": {
            "text/plain": [
              "                                File  DiseaseID Disease Type\n",
              "0              COVID/Covid (126).png          0        COVID\n",
              "1              COVID/Covid (256).png          0        COVID\n",
              "2               COVID/Covid (20).png          0        COVID\n",
              "3              COVID/Covid (170).png          0        COVID\n",
              "4              COVID/Covid (227).png          0        COVID\n",
              "...                              ...        ...          ...\n",
              "2485  non-COVID/Non-Covid (1165).png          1    non-COVID\n",
              "2486  non-COVID/Non-Covid (1179).png          1    non-COVID\n",
              "2487  non-COVID/Non-Covid (1225).png          1    non-COVID\n",
              "2488   non-COVID/Non-Covid (205).png          1    non-COVID\n",
              "2489   non-COVID/Non-Covid (274).png          1    non-COVID\n",
              "\n",
              "[2490 rows x 3 columns]"
            ],
            "text/html": [
              "\n",
              "  <div id=\"df-7dc4e722-a973-441c-b6f5-92ca86decc23\" class=\"colab-df-container\">\n",
              "    <div>\n",
              "<style scoped>\n",
              "    .dataframe tbody tr th:only-of-type {\n",
              "        vertical-align: middle;\n",
              "    }\n",
              "\n",
              "    .dataframe tbody tr th {\n",
              "        vertical-align: top;\n",
              "    }\n",
              "\n",
              "    .dataframe thead th {\n",
              "        text-align: right;\n",
              "    }\n",
              "</style>\n",
              "<table border=\"1\" class=\"dataframe\">\n",
              "  <thead>\n",
              "    <tr style=\"text-align: right;\">\n",
              "      <th></th>\n",
              "      <th>File</th>\n",
              "      <th>DiseaseID</th>\n",
              "      <th>Disease Type</th>\n",
              "    </tr>\n",
              "  </thead>\n",
              "  <tbody>\n",
              "    <tr>\n",
              "      <th>0</th>\n",
              "      <td>COVID/Covid (126).png</td>\n",
              "      <td>0</td>\n",
              "      <td>COVID</td>\n",
              "    </tr>\n",
              "    <tr>\n",
              "      <th>1</th>\n",
              "      <td>COVID/Covid (256).png</td>\n",
              "      <td>0</td>\n",
              "      <td>COVID</td>\n",
              "    </tr>\n",
              "    <tr>\n",
              "      <th>2</th>\n",
              "      <td>COVID/Covid (20).png</td>\n",
              "      <td>0</td>\n",
              "      <td>COVID</td>\n",
              "    </tr>\n",
              "    <tr>\n",
              "      <th>3</th>\n",
              "      <td>COVID/Covid (170).png</td>\n",
              "      <td>0</td>\n",
              "      <td>COVID</td>\n",
              "    </tr>\n",
              "    <tr>\n",
              "      <th>4</th>\n",
              "      <td>COVID/Covid (227).png</td>\n",
              "      <td>0</td>\n",
              "      <td>COVID</td>\n",
              "    </tr>\n",
              "    <tr>\n",
              "      <th>...</th>\n",
              "      <td>...</td>\n",
              "      <td>...</td>\n",
              "      <td>...</td>\n",
              "    </tr>\n",
              "    <tr>\n",
              "      <th>2485</th>\n",
              "      <td>non-COVID/Non-Covid (1165).png</td>\n",
              "      <td>1</td>\n",
              "      <td>non-COVID</td>\n",
              "    </tr>\n",
              "    <tr>\n",
              "      <th>2486</th>\n",
              "      <td>non-COVID/Non-Covid (1179).png</td>\n",
              "      <td>1</td>\n",
              "      <td>non-COVID</td>\n",
              "    </tr>\n",
              "    <tr>\n",
              "      <th>2487</th>\n",
              "      <td>non-COVID/Non-Covid (1225).png</td>\n",
              "      <td>1</td>\n",
              "      <td>non-COVID</td>\n",
              "    </tr>\n",
              "    <tr>\n",
              "      <th>2488</th>\n",
              "      <td>non-COVID/Non-Covid (205).png</td>\n",
              "      <td>1</td>\n",
              "      <td>non-COVID</td>\n",
              "    </tr>\n",
              "    <tr>\n",
              "      <th>2489</th>\n",
              "      <td>non-COVID/Non-Covid (274).png</td>\n",
              "      <td>1</td>\n",
              "      <td>non-COVID</td>\n",
              "    </tr>\n",
              "  </tbody>\n",
              "</table>\n",
              "<p>2490 rows × 3 columns</p>\n",
              "</div>\n",
              "    <div class=\"colab-df-buttons\">\n",
              "\n",
              "  <div class=\"colab-df-container\">\n",
              "    <button class=\"colab-df-convert\" onclick=\"convertToInteractive('df-7dc4e722-a973-441c-b6f5-92ca86decc23')\"\n",
              "            title=\"Convert this dataframe to an interactive table.\"\n",
              "            style=\"display:none;\">\n",
              "\n",
              "  <svg xmlns=\"http://www.w3.org/2000/svg\" height=\"24px\" viewBox=\"0 -960 960 960\">\n",
              "    <path d=\"M120-120v-720h720v720H120Zm60-500h600v-160H180v160Zm220 220h160v-160H400v160Zm0 220h160v-160H400v160ZM180-400h160v-160H180v160Zm440 0h160v-160H620v160ZM180-180h160v-160H180v160Zm440 0h160v-160H620v160Z\"/>\n",
              "  </svg>\n",
              "    </button>\n",
              "\n",
              "  <style>\n",
              "    .colab-df-container {\n",
              "      display:flex;\n",
              "      gap: 12px;\n",
              "    }\n",
              "\n",
              "    .colab-df-convert {\n",
              "      background-color: #E8F0FE;\n",
              "      border: none;\n",
              "      border-radius: 50%;\n",
              "      cursor: pointer;\n",
              "      display: none;\n",
              "      fill: #1967D2;\n",
              "      height: 32px;\n",
              "      padding: 0 0 0 0;\n",
              "      width: 32px;\n",
              "    }\n",
              "\n",
              "    .colab-df-convert:hover {\n",
              "      background-color: #E2EBFA;\n",
              "      box-shadow: 0px 1px 2px rgba(60, 64, 67, 0.3), 0px 1px 3px 1px rgba(60, 64, 67, 0.15);\n",
              "      fill: #174EA6;\n",
              "    }\n",
              "\n",
              "    .colab-df-buttons div {\n",
              "      margin-bottom: 4px;\n",
              "    }\n",
              "\n",
              "    [theme=dark] .colab-df-convert {\n",
              "      background-color: #3B4455;\n",
              "      fill: #D2E3FC;\n",
              "    }\n",
              "\n",
              "    [theme=dark] .colab-df-convert:hover {\n",
              "      background-color: #434B5C;\n",
              "      box-shadow: 0px 1px 3px 1px rgba(0, 0, 0, 0.15);\n",
              "      filter: drop-shadow(0px 1px 2px rgba(0, 0, 0, 0.3));\n",
              "      fill: #FFFFFF;\n",
              "    }\n",
              "  </style>\n",
              "\n",
              "    <script>\n",
              "      const buttonEl =\n",
              "        document.querySelector('#df-7dc4e722-a973-441c-b6f5-92ca86decc23 button.colab-df-convert');\n",
              "      buttonEl.style.display =\n",
              "        google.colab.kernel.accessAllowed ? 'block' : 'none';\n",
              "\n",
              "      async function convertToInteractive(key) {\n",
              "        const element = document.querySelector('#df-7dc4e722-a973-441c-b6f5-92ca86decc23');\n",
              "        const dataTable =\n",
              "          await google.colab.kernel.invokeFunction('convertToInteractive',\n",
              "                                                    [key], {});\n",
              "        if (!dataTable) return;\n",
              "\n",
              "        const docLinkHtml = 'Like what you see? Visit the ' +\n",
              "          '<a target=\"_blank\" href=https://colab.research.google.com/notebooks/data_table.ipynb>data table notebook</a>'\n",
              "          + ' to learn more about interactive tables.';\n",
              "        element.innerHTML = '';\n",
              "        dataTable['output_type'] = 'display_data';\n",
              "        await google.colab.output.renderOutput(dataTable, element);\n",
              "        const docLink = document.createElement('div');\n",
              "        docLink.innerHTML = docLinkHtml;\n",
              "        element.appendChild(docLink);\n",
              "      }\n",
              "    </script>\n",
              "  </div>\n",
              "\n",
              "\n",
              "<div id=\"df-fd366791-a807-41ff-9176-0817aa95baf5\">\n",
              "  <button class=\"colab-df-quickchart\" onclick=\"quickchart('df-fd366791-a807-41ff-9176-0817aa95baf5')\"\n",
              "            title=\"Suggest charts\"\n",
              "            style=\"display:none;\">\n",
              "\n",
              "<svg xmlns=\"http://www.w3.org/2000/svg\" height=\"24px\"viewBox=\"0 0 24 24\"\n",
              "     width=\"24px\">\n",
              "    <g>\n",
              "        <path d=\"M19 3H5c-1.1 0-2 .9-2 2v14c0 1.1.9 2 2 2h14c1.1 0 2-.9 2-2V5c0-1.1-.9-2-2-2zM9 17H7v-7h2v7zm4 0h-2V7h2v10zm4 0h-2v-4h2v4z\"/>\n",
              "    </g>\n",
              "</svg>\n",
              "  </button>\n",
              "\n",
              "<style>\n",
              "  .colab-df-quickchart {\n",
              "      --bg-color: #E8F0FE;\n",
              "      --fill-color: #1967D2;\n",
              "      --hover-bg-color: #E2EBFA;\n",
              "      --hover-fill-color: #174EA6;\n",
              "      --disabled-fill-color: #AAA;\n",
              "      --disabled-bg-color: #DDD;\n",
              "  }\n",
              "\n",
              "  [theme=dark] .colab-df-quickchart {\n",
              "      --bg-color: #3B4455;\n",
              "      --fill-color: #D2E3FC;\n",
              "      --hover-bg-color: #434B5C;\n",
              "      --hover-fill-color: #FFFFFF;\n",
              "      --disabled-bg-color: #3B4455;\n",
              "      --disabled-fill-color: #666;\n",
              "  }\n",
              "\n",
              "  .colab-df-quickchart {\n",
              "    background-color: var(--bg-color);\n",
              "    border: none;\n",
              "    border-radius: 50%;\n",
              "    cursor: pointer;\n",
              "    display: none;\n",
              "    fill: var(--fill-color);\n",
              "    height: 32px;\n",
              "    padding: 0;\n",
              "    width: 32px;\n",
              "  }\n",
              "\n",
              "  .colab-df-quickchart:hover {\n",
              "    background-color: var(--hover-bg-color);\n",
              "    box-shadow: 0 1px 2px rgba(60, 64, 67, 0.3), 0 1px 3px 1px rgba(60, 64, 67, 0.15);\n",
              "    fill: var(--button-hover-fill-color);\n",
              "  }\n",
              "\n",
              "  .colab-df-quickchart-complete:disabled,\n",
              "  .colab-df-quickchart-complete:disabled:hover {\n",
              "    background-color: var(--disabled-bg-color);\n",
              "    fill: var(--disabled-fill-color);\n",
              "    box-shadow: none;\n",
              "  }\n",
              "\n",
              "  .colab-df-spinner {\n",
              "    border: 2px solid var(--fill-color);\n",
              "    border-color: transparent;\n",
              "    border-bottom-color: var(--fill-color);\n",
              "    animation:\n",
              "      spin 1s steps(1) infinite;\n",
              "  }\n",
              "\n",
              "  @keyframes spin {\n",
              "    0% {\n",
              "      border-color: transparent;\n",
              "      border-bottom-color: var(--fill-color);\n",
              "      border-left-color: var(--fill-color);\n",
              "    }\n",
              "    20% {\n",
              "      border-color: transparent;\n",
              "      border-left-color: var(--fill-color);\n",
              "      border-top-color: var(--fill-color);\n",
              "    }\n",
              "    30% {\n",
              "      border-color: transparent;\n",
              "      border-left-color: var(--fill-color);\n",
              "      border-top-color: var(--fill-color);\n",
              "      border-right-color: var(--fill-color);\n",
              "    }\n",
              "    40% {\n",
              "      border-color: transparent;\n",
              "      border-right-color: var(--fill-color);\n",
              "      border-top-color: var(--fill-color);\n",
              "    }\n",
              "    60% {\n",
              "      border-color: transparent;\n",
              "      border-right-color: var(--fill-color);\n",
              "    }\n",
              "    80% {\n",
              "      border-color: transparent;\n",
              "      border-right-color: var(--fill-color);\n",
              "      border-bottom-color: var(--fill-color);\n",
              "    }\n",
              "    90% {\n",
              "      border-color: transparent;\n",
              "      border-bottom-color: var(--fill-color);\n",
              "    }\n",
              "  }\n",
              "</style>\n",
              "\n",
              "  <script>\n",
              "    async function quickchart(key) {\n",
              "      const quickchartButtonEl =\n",
              "        document.querySelector('#' + key + ' button');\n",
              "      quickchartButtonEl.disabled = true;  // To prevent multiple clicks.\n",
              "      quickchartButtonEl.classList.add('colab-df-spinner');\n",
              "      try {\n",
              "        const charts = await google.colab.kernel.invokeFunction(\n",
              "            'suggestCharts', [key], {});\n",
              "      } catch (error) {\n",
              "        console.error('Error during call to suggestCharts:', error);\n",
              "      }\n",
              "      quickchartButtonEl.classList.remove('colab-df-spinner');\n",
              "      quickchartButtonEl.classList.add('colab-df-quickchart-complete');\n",
              "    }\n",
              "    (() => {\n",
              "      let quickchartButtonEl =\n",
              "        document.querySelector('#df-fd366791-a807-41ff-9176-0817aa95baf5 button');\n",
              "      quickchartButtonEl.style.display =\n",
              "        google.colab.kernel.accessAllowed ? 'block' : 'none';\n",
              "    })();\n",
              "  </script>\n",
              "</div>\n",
              "    </div>\n",
              "  </div>\n"
            ],
            "application/vnd.google.colaboratory.intrinsic+json": {
              "type": "dataframe",
              "variable_name": "train",
              "summary": "{\n  \"name\": \"train\",\n  \"rows\": 2490,\n  \"fields\": [\n    {\n      \"column\": \"File\",\n      \"properties\": {\n        \"dtype\": \"string\",\n        \"num_unique_values\": 2490,\n        \"samples\": [\n          \"COVID/Covid (1222).png\",\n          \"COVID/Covid (507).png\",\n          \"COVID/Covid (866).png\"\n        ],\n        \"semantic_type\": \"\",\n        \"description\": \"\"\n      }\n    },\n    {\n      \"column\": \"DiseaseID\",\n      \"properties\": {\n        \"dtype\": \"number\",\n        \"std\": 0,\n        \"min\": 0,\n        \"max\": 1,\n        \"num_unique_values\": 2,\n        \"samples\": [\n          1,\n          0\n        ],\n        \"semantic_type\": \"\",\n        \"description\": \"\"\n      }\n    },\n    {\n      \"column\": \"Disease Type\",\n      \"properties\": {\n        \"dtype\": \"category\",\n        \"num_unique_values\": 2,\n        \"samples\": [\n          \"non-COVID\",\n          \"COVID\"\n        ],\n        \"semantic_type\": \"\",\n        \"description\": \"\"\n      }\n    }\n  ]\n}"
            }
          },
          "metadata": {},
          "execution_count": 9
        }
      ]
    },
    {
      "cell_type": "code",
      "source": [
        "#Read and resize images\n",
        "\n",
        "IMAGE_SIZE = 64\n",
        "def read_image(filepath):\n",
        "    return cv2.imread(os.path.join(data_dir, filepath))\n",
        "def resize_image(image, image_size):\n",
        "    return cv2.resize(image.copy(), image_size, interpolation=cv2.INTER_AREA)"
      ],
      "metadata": {
        "id": "yopF6VKepxQb"
      },
      "execution_count": null,
      "outputs": []
    },
    {
      "cell_type": "code",
      "source": [
        "X_train = np.zeros((train.shape[0], IMAGE_SIZE, IMAGE_SIZE, 3))\n",
        "for i, file in tqdm(enumerate(train['File'].values)):\n",
        "    image = read_image(file)\n",
        "    if image is not None:\n",
        "        X_train[i] = resize_image(image, (IMAGE_SIZE, IMAGE_SIZE))\n",
        "X_Train = X_train / 255.\n",
        "print(X_Train.shape)\n"
      ],
      "metadata": {
        "colab": {
          "base_uri": "https://localhost:8080/"
        },
        "id": "2l-LWUeJpz6B",
        "outputId": "6398456d-f817-4903-d135-9cc7ccac825c"
      },
      "execution_count": null,
      "outputs": [
        {
          "output_type": "stream",
          "name": "stderr",
          "text": [
            "2490it [13:10,  3.15it/s]"
          ]
        },
        {
          "output_type": "stream",
          "name": "stdout",
          "text": [
            "(2490, 64, 64, 3)\n"
          ]
        },
        {
          "output_type": "stream",
          "name": "stderr",
          "text": [
            "\n"
          ]
        }
      ]
    },
    {
      "cell_type": "code",
      "source": [
        "Y_train = train['DiseaseID'].values\n",
        "Y_train = to_categorical(Y_train, num_classes=2)"
      ],
      "metadata": {
        "id": "0BKF3bsnvkYU"
      },
      "execution_count": null,
      "outputs": []
    },
    {
      "cell_type": "code",
      "source": [
        "X_train, X_val, Y_train, Y_val = train_test_split(X_Train, Y_train, test_size=0.2, random_state = 42)"
      ],
      "metadata": {
        "id": "v7AcIzmHyN2N"
      },
      "execution_count": null,
      "outputs": []
    },
    {
      "cell_type": "markdown",
      "source": [
        "## Using ResNET model architecture"
      ],
      "metadata": {
        "id": "JXcvRJdOyX0L"
      }
    },
    {
      "cell_type": "code",
      "source": [
        "BATCH_SIZE = 64\n",
        "EPOCHS = 100\n",
        "SIZE=64\n",
        "N_ch=3"
      ],
      "metadata": {
        "id": "9RoFlDkzyeXO"
      },
      "execution_count": null,
      "outputs": []
    },
    {
      "cell_type": "code",
      "source": [
        "def build_resnet50():\n",
        "    resnet50 = ResNet50(weights='imagenet', include_top=False)\n",
        "\n",
        "    # Define input layer\n",
        "    input = Input(shape=(SIZE, SIZE, N_ch))\n",
        "\n",
        "    # Pass input through ResNet50 model\n",
        "    x = resnet50(input)\n",
        "\n",
        "    # Global average pooling\n",
        "    x = GlobalAveragePooling2D()(x)\n",
        "\n",
        "    # Batch normalization and dropout\n",
        "    x = BatchNormalization()(x)\n",
        "    x = Dropout(0.5)(x)\n",
        "\n",
        "    # Additional dense layer\n",
        "    x = Dense(256, activation='relu')(x)\n",
        "    x = BatchNormalization()(x)\n",
        "    x = Dropout(0.5)(x)\n",
        "\n",
        "    # Output layer\n",
        "    output = Dense(2, activation='softmax', name='root')(x)\n",
        "\n",
        "    # Define the model\n",
        "    model = Model(input, output)\n",
        "\n",
        "    # Compile the model with Adam optimizer\n",
        "    optimizer = Adam(lr=0.003, beta_1=0.9, beta_2=0.999, epsilon=0.1)\n",
        "    model.compile(loss='categorical_crossentropy', optimizer=optimizer, metrics=['accuracy'])\n",
        "\n",
        "    # Print model summary\n",
        "    model.summary()\n",
        "\n",
        "    return model\n"
      ],
      "metadata": {
        "id": "WfJd-baoylal"
      },
      "execution_count": null,
      "outputs": []
    },
    {
      "cell_type": "code",
      "source": [
        "# Train the model\n",
        "model = build_resnet50()\n",
        "\n",
        "# Assuming `build_resnet50()` is a function that builds a ResNet50 model\n",
        "model = build_resnet50()\n",
        "\n",
        "# Setting up callbacks\n",
        "annealer = ReduceLROnPlateau(monitor='val_accuracy', factor=0.70, patience=5, verbose=1, min_lr=1e-4)\n",
        "checkpoint = ModelCheckpoint('ResNet50_Model.hdf5', verbose=1, save_best_only=True)\n",
        "\n",
        "# Setting up data augmentation\n",
        "datagen = ImageDataGenerator(rotation_range=360,\n",
        "                             width_shift_range=0.2,\n",
        "                             height_shift_range=0.2,\n",
        "                             zoom_range=0.2,\n",
        "                             horizontal_flip=True,\n",
        "                             vertical_flip=True)\n",
        "\n",
        "# Fitting the data generator to your training data\n",
        "datagen.fit(X_train)  # Assuming X_train contains your training data"
      ],
      "metadata": {
        "colab": {
          "base_uri": "https://localhost:8080/"
        },
        "id": "N42WoKavypLX",
        "outputId": "ed293f3f-dcde-4989-e12a-41182fce65b4"
      },
      "execution_count": null,
      "outputs": [
        {
          "output_type": "stream",
          "name": "stdout",
          "text": [
            "Downloading data from https://storage.googleapis.com/tensorflow/keras-applications/resnet/resnet50_weights_tf_dim_ordering_tf_kernels_notop.h5\n",
            "94765736/94765736 [==============================] - 0s 0us/step\n"
          ]
        },
        {
          "output_type": "stream",
          "name": "stderr",
          "text": [
            "WARNING:absl:`lr` is deprecated in Keras optimizer, please use `learning_rate` or use the legacy optimizer, e.g.,tf.keras.optimizers.legacy.Adam.\n"
          ]
        },
        {
          "output_type": "stream",
          "name": "stdout",
          "text": [
            "Model: \"model\"\n",
            "_________________________________________________________________\n",
            " Layer (type)                Output Shape              Param #   \n",
            "=================================================================\n",
            " input_2 (InputLayer)        [(None, 64, 64, 3)]       0         \n",
            "                                                                 \n",
            " resnet50 (Functional)       (None, None, None, 2048   23587712  \n",
            "                             )                                   \n",
            "                                                                 \n",
            " global_average_pooling2d (  (None, 2048)              0         \n",
            " GlobalAveragePooling2D)                                         \n",
            "                                                                 \n",
            " batch_normalization (Batch  (None, 2048)              8192      \n",
            " Normalization)                                                  \n",
            "                                                                 \n",
            " dropout (Dropout)           (None, 2048)              0         \n",
            "                                                                 \n",
            " dense (Dense)               (None, 256)               524544    \n",
            "                                                                 \n",
            " batch_normalization_1 (Bat  (None, 256)               1024      \n",
            " chNormalization)                                                \n",
            "                                                                 \n",
            " dropout_1 (Dropout)         (None, 256)               0         \n",
            "                                                                 \n",
            " root (Dense)                (None, 2)                 514       \n",
            "                                                                 \n",
            "=================================================================\n",
            "Total params: 24121986 (92.02 MB)\n",
            "Trainable params: 24064258 (91.80 MB)\n",
            "Non-trainable params: 57728 (225.50 KB)\n",
            "_________________________________________________________________\n"
          ]
        },
        {
          "output_type": "stream",
          "name": "stderr",
          "text": [
            "WARNING:absl:`lr` is deprecated in Keras optimizer, please use `learning_rate` or use the legacy optimizer, e.g.,tf.keras.optimizers.legacy.Adam.\n"
          ]
        },
        {
          "output_type": "stream",
          "name": "stdout",
          "text": [
            "Model: \"model_1\"\n",
            "_________________________________________________________________\n",
            " Layer (type)                Output Shape              Param #   \n",
            "=================================================================\n",
            " input_4 (InputLayer)        [(None, 64, 64, 3)]       0         \n",
            "                                                                 \n",
            " resnet50 (Functional)       (None, None, None, 2048   23587712  \n",
            "                             )                                   \n",
            "                                                                 \n",
            " global_average_pooling2d_1  (None, 2048)              0         \n",
            "  (GlobalAveragePooling2D)                                       \n",
            "                                                                 \n",
            " batch_normalization_2 (Bat  (None, 2048)              8192      \n",
            " chNormalization)                                                \n",
            "                                                                 \n",
            " dropout_2 (Dropout)         (None, 2048)              0         \n",
            "                                                                 \n",
            " dense_1 (Dense)             (None, 256)               524544    \n",
            "                                                                 \n",
            " batch_normalization_3 (Bat  (None, 256)               1024      \n",
            " chNormalization)                                                \n",
            "                                                                 \n",
            " dropout_3 (Dropout)         (None, 256)               0         \n",
            "                                                                 \n",
            " root (Dense)                (None, 2)                 514       \n",
            "                                                                 \n",
            "=================================================================\n",
            "Total params: 24121986 (92.02 MB)\n",
            "Trainable params: 24064258 (91.80 MB)\n",
            "Non-trainable params: 57728 (225.50 KB)\n",
            "_________________________________________________________________\n"
          ]
        }
      ]
    },
    {
      "cell_type": "code",
      "source": [
        "history = model.fit_generator(datagen.flow(X_train, Y_train, batch_size=BATCH_SIZE),\n",
        "               steps_per_epoch=X_train.shape[0] // BATCH_SIZE,\n",
        "               epochs=EPOCHS,\n",
        "               verbose=1,\n",
        "               callbacks=[annealer, checkpoint],\n",
        "               validation_data=(X_val, Y_val))\n"
      ],
      "metadata": {
        "colab": {
          "base_uri": "https://localhost:8080/"
        },
        "id": "8hZFO_9C0Ygi",
        "outputId": "b7e02a39-c50e-48ec-9b01-148eaba088d9"
      },
      "execution_count": null,
      "outputs": [
        {
          "output_type": "stream",
          "name": "stdout",
          "text": [
            "Epoch 1/100\n"
          ]
        },
        {
          "output_type": "stream",
          "name": "stderr",
          "text": [
            "<ipython-input-17-427914eb0244>:1: UserWarning: `Model.fit_generator` is deprecated and will be removed in a future version. Please use `Model.fit`, which supports generators.\n",
            "  history = model.fit_generator(datagen.flow(X_train, Y_train, batch_size=BATCH_SIZE),\n"
          ]
        },
        {
          "output_type": "stream",
          "name": "stdout",
          "text": [
            "31/31 [==============================] - ETA: 0s - loss: 1.2354 - accuracy: 0.5171\n",
            "Epoch 1: val_loss improved from inf to 1.24327, saving model to ResNet50_Model.hdf5\n"
          ]
        },
        {
          "output_type": "stream",
          "name": "stderr",
          "text": [
            "/usr/local/lib/python3.10/dist-packages/keras/src/engine/training.py:3103: UserWarning: You are saving your model as an HDF5 file via `model.save()`. This file format is considered legacy. We recommend using instead the native Keras format, e.g. `model.save('my_model.keras')`.\n",
            "  saving_api.save_model(\n"
          ]
        },
        {
          "output_type": "stream",
          "name": "stdout",
          "text": [
            "\b\b\b\b\b\b\b\b\b\b\b\b\b\b\b\b\b\b\b\b\b\b\b\b\b\b\b\b\b\b\b\b\b\b\b\b\b\b\b\b\b\b\b\b\b\b\b\b\b\b\b\b\b\b\b\b\b\b\b\b\b\b\b\b\b\b\b\b\b\b\b\b\b\b\b\b\b\b\b\b\b\b\r31/31 [==============================] - 56s 508ms/step - loss: 1.2354 - accuracy: 0.5171 - val_loss: 1.2433 - val_accuracy: 0.4880 - lr: 0.0010\n",
            "Epoch 2/100\n",
            "31/31 [==============================] - ETA: 0s - loss: 1.1744 - accuracy: 0.5202\n",
            "Epoch 2: val_loss did not improve from 1.24327\n",
            "31/31 [==============================] - 4s 137ms/step - loss: 1.1744 - accuracy: 0.5202 - val_loss: 5.2192 - val_accuracy: 0.4880 - lr: 0.0010\n",
            "Epoch 3/100\n",
            "31/31 [==============================] - ETA: 0s - loss: 1.0465 - accuracy: 0.5633\n",
            "Epoch 3: val_loss did not improve from 1.24327\n",
            "31/31 [==============================] - 5s 146ms/step - loss: 1.0465 - accuracy: 0.5633 - val_loss: 7.3403 - val_accuracy: 0.4880 - lr: 0.0010\n",
            "Epoch 4/100\n",
            "31/31 [==============================] - ETA: 0s - loss: 0.9293 - accuracy: 0.6027\n",
            "Epoch 4: val_loss did not improve from 1.24327\n",
            "31/31 [==============================] - 4s 131ms/step - loss: 0.9293 - accuracy: 0.6027 - val_loss: 12.9453 - val_accuracy: 0.4880 - lr: 0.0010\n",
            "Epoch 5/100\n",
            "31/31 [==============================] - ETA: 0s - loss: 0.8950 - accuracy: 0.6032\n",
            "Epoch 5: val_loss did not improve from 1.24327\n",
            "31/31 [==============================] - 4s 124ms/step - loss: 0.8950 - accuracy: 0.6032 - val_loss: 12.8065 - val_accuracy: 0.4880 - lr: 0.0010\n",
            "Epoch 6/100\n",
            "31/31 [==============================] - ETA: 0s - loss: 0.9187 - accuracy: 0.6219\n",
            "Epoch 6: ReduceLROnPlateau reducing learning rate to 0.0007000000332482159.\n",
            "\n",
            "Epoch 6: val_loss did not improve from 1.24327\n",
            "31/31 [==============================] - 5s 150ms/step - loss: 0.9187 - accuracy: 0.6219 - val_loss: 2.4076 - val_accuracy: 0.4880 - lr: 0.0010\n",
            "Epoch 7/100\n",
            "31/31 [==============================] - ETA: 0s - loss: 0.7889 - accuracy: 0.6670\n",
            "Epoch 7: val_loss did not improve from 1.24327\n",
            "31/31 [==============================] - 4s 117ms/step - loss: 0.7889 - accuracy: 0.6670 - val_loss: 4.7008 - val_accuracy: 0.4880 - lr: 7.0000e-04\n",
            "Epoch 8/100\n",
            "31/31 [==============================] - ETA: 0s - loss: 0.8387 - accuracy: 0.6421\n",
            "Epoch 8: val_loss did not improve from 1.24327\n",
            "31/31 [==============================] - 4s 120ms/step - loss: 0.8387 - accuracy: 0.6421 - val_loss: 1.6139 - val_accuracy: 0.4900 - lr: 7.0000e-04\n",
            "Epoch 9/100\n",
            "31/31 [==============================] - ETA: 0s - loss: 0.7880 - accuracy: 0.6421\n",
            "Epoch 9: val_loss did not improve from 1.24327\n",
            "31/31 [==============================] - 5s 164ms/step - loss: 0.7880 - accuracy: 0.6421 - val_loss: 11.2910 - val_accuracy: 0.4880 - lr: 7.0000e-04\n",
            "Epoch 10/100\n",
            "31/31 [==============================] - ETA: 0s - loss: 0.7526 - accuracy: 0.6691\n",
            "Epoch 10: val_loss did not improve from 1.24327\n",
            "31/31 [==============================] - 4s 113ms/step - loss: 0.7526 - accuracy: 0.6691 - val_loss: 15.6846 - val_accuracy: 0.4880 - lr: 7.0000e-04\n",
            "Epoch 11/100\n",
            "31/31 [==============================] - ETA: 0s - loss: 0.7044 - accuracy: 0.6867\n",
            "Epoch 11: val_loss did not improve from 1.24327\n",
            "31/31 [==============================] - 4s 120ms/step - loss: 0.7044 - accuracy: 0.6867 - val_loss: 18.8965 - val_accuracy: 0.4880 - lr: 7.0000e-04\n",
            "Epoch 12/100\n",
            "31/31 [==============================] - ETA: 0s - loss: 0.7166 - accuracy: 0.6649\n",
            "Epoch 12: val_loss did not improve from 1.24327\n",
            "31/31 [==============================] - 5s 163ms/step - loss: 0.7166 - accuracy: 0.6649 - val_loss: 19.6649 - val_accuracy: 0.4880 - lr: 7.0000e-04\n",
            "Epoch 13/100\n",
            "31/31 [==============================] - ETA: 0s - loss: 0.6613 - accuracy: 0.7111\n",
            "Epoch 13: ReduceLROnPlateau reducing learning rate to 0.0004900000232737511.\n",
            "\n",
            "Epoch 13: val_loss did not improve from 1.24327\n",
            "31/31 [==============================] - 4s 113ms/step - loss: 0.6613 - accuracy: 0.7111 - val_loss: 29.7973 - val_accuracy: 0.4880 - lr: 7.0000e-04\n",
            "Epoch 14/100\n",
            "31/31 [==============================] - ETA: 0s - loss: 0.6549 - accuracy: 0.7147\n",
            "Epoch 14: val_loss did not improve from 1.24327\n",
            "31/31 [==============================] - 4s 114ms/step - loss: 0.6549 - accuracy: 0.7147 - val_loss: 14.8485 - val_accuracy: 0.4880 - lr: 4.9000e-04\n",
            "Epoch 15/100\n",
            "31/31 [==============================] - ETA: 0s - loss: 0.6267 - accuracy: 0.7142\n",
            "Epoch 15: val_loss did not improve from 1.24327\n",
            "31/31 [==============================] - 5s 160ms/step - loss: 0.6267 - accuracy: 0.7142 - val_loss: 13.1941 - val_accuracy: 0.4880 - lr: 4.9000e-04\n",
            "Epoch 16/100\n",
            "31/31 [==============================] - ETA: 0s - loss: 0.5625 - accuracy: 0.7469\n",
            "Epoch 16: val_loss did not improve from 1.24327\n",
            "31/31 [==============================] - 4s 115ms/step - loss: 0.5625 - accuracy: 0.7469 - val_loss: 8.0136 - val_accuracy: 0.4880 - lr: 4.9000e-04\n",
            "Epoch 17/100\n",
            "31/31 [==============================] - ETA: 0s - loss: 0.5642 - accuracy: 0.7433\n",
            "Epoch 17: val_loss did not improve from 1.24327\n",
            "31/31 [==============================] - 4s 116ms/step - loss: 0.5642 - accuracy: 0.7433 - val_loss: 6.5578 - val_accuracy: 0.4880 - lr: 4.9000e-04\n",
            "Epoch 18/100\n",
            "31/31 [==============================] - ETA: 0s - loss: 0.5506 - accuracy: 0.7666\n",
            "Epoch 18: ReduceLROnPlateau reducing learning rate to 0.00034300000406801696.\n",
            "\n",
            "Epoch 18: val_loss did not improve from 1.24327\n",
            "31/31 [==============================] - 5s 164ms/step - loss: 0.5506 - accuracy: 0.7666 - val_loss: 8.6688 - val_accuracy: 0.4880 - lr: 4.9000e-04\n",
            "Epoch 19/100\n",
            "31/31 [==============================] - ETA: 0s - loss: 0.5529 - accuracy: 0.7386\n",
            "Epoch 19: val_loss did not improve from 1.24327\n",
            "31/31 [==============================] - 4s 112ms/step - loss: 0.5529 - accuracy: 0.7386 - val_loss: 7.6191 - val_accuracy: 0.4880 - lr: 3.4300e-04\n",
            "Epoch 20/100\n",
            "31/31 [==============================] - ETA: 0s - loss: 0.5191 - accuracy: 0.7666\n",
            "Epoch 20: val_loss did not improve from 1.24327\n",
            "31/31 [==============================] - 4s 116ms/step - loss: 0.5191 - accuracy: 0.7666 - val_loss: 6.4693 - val_accuracy: 0.4940 - lr: 3.4300e-04\n",
            "Epoch 21/100\n",
            "31/31 [==============================] - ETA: 0s - loss: 0.5323 - accuracy: 0.7692\n",
            "Epoch 21: val_loss did not improve from 1.24327\n",
            "31/31 [==============================] - 5s 162ms/step - loss: 0.5323 - accuracy: 0.7692 - val_loss: 3.7677 - val_accuracy: 0.5643 - lr: 3.4300e-04\n",
            "Epoch 22/100\n",
            "31/31 [==============================] - ETA: 0s - loss: 0.4968 - accuracy: 0.7697\n",
            "Epoch 22: val_loss did not improve from 1.24327\n",
            "31/31 [==============================] - 4s 118ms/step - loss: 0.4968 - accuracy: 0.7697 - val_loss: 3.3712 - val_accuracy: 0.6225 - lr: 3.4300e-04\n",
            "Epoch 23/100\n",
            "31/31 [==============================] - ETA: 0s - loss: 0.5002 - accuracy: 0.7816\n",
            "Epoch 23: val_loss did not improve from 1.24327\n",
            "31/31 [==============================] - 4s 114ms/step - loss: 0.5002 - accuracy: 0.7816 - val_loss: 1.7863 - val_accuracy: 0.6667 - lr: 3.4300e-04\n",
            "Epoch 24/100\n",
            "31/31 [==============================] - ETA: 0s - loss: 0.4995 - accuracy: 0.7873\n",
            "Epoch 24: val_loss improved from 1.24327 to 1.08334, saving model to ResNet50_Model.hdf5\n",
            "31/31 [==============================] - 10s 312ms/step - loss: 0.4995 - accuracy: 0.7873 - val_loss: 1.0833 - val_accuracy: 0.7028 - lr: 3.4300e-04\n",
            "Epoch 25/100\n",
            "31/31 [==============================] - ETA: 0s - loss: 0.4700 - accuracy: 0.7910\n",
            "Epoch 25: val_loss improved from 1.08334 to 0.85032, saving model to ResNet50_Model.hdf5\n",
            "31/31 [==============================] - 5s 168ms/step - loss: 0.4700 - accuracy: 0.7910 - val_loss: 0.8503 - val_accuracy: 0.7169 - lr: 3.4300e-04\n",
            "Epoch 26/100\n",
            "31/31 [==============================] - ETA: 0s - loss: 0.4897 - accuracy: 0.7863\n",
            "Epoch 26: val_loss improved from 0.85032 to 0.75960, saving model to ResNet50_Model.hdf5\n",
            "31/31 [==============================] - 7s 216ms/step - loss: 0.4897 - accuracy: 0.7863 - val_loss: 0.7596 - val_accuracy: 0.7008 - lr: 3.4300e-04\n",
            "Epoch 27/100\n",
            "31/31 [==============================] - ETA: 0s - loss: 0.4670 - accuracy: 0.7936\n",
            "Epoch 27: val_loss did not improve from 0.75960\n",
            "31/31 [==============================] - 4s 115ms/step - loss: 0.4670 - accuracy: 0.7936 - val_loss: 0.8193 - val_accuracy: 0.6968 - lr: 3.4300e-04\n",
            "Epoch 28/100\n",
            "31/31 [==============================] - ETA: 0s - loss: 0.4739 - accuracy: 0.7951\n",
            "Epoch 28: val_loss did not improve from 0.75960\n",
            "31/31 [==============================] - 5s 158ms/step - loss: 0.4739 - accuracy: 0.7951 - val_loss: 0.7779 - val_accuracy: 0.7108 - lr: 3.4300e-04\n",
            "Epoch 29/100\n",
            "31/31 [==============================] - ETA: 0s - loss: 0.4640 - accuracy: 0.8008\n",
            "Epoch 29: val_loss improved from 0.75960 to 0.68081, saving model to ResNet50_Model.hdf5\n",
            "31/31 [==============================] - 11s 358ms/step - loss: 0.4640 - accuracy: 0.8008 - val_loss: 0.6808 - val_accuracy: 0.7349 - lr: 3.4300e-04\n",
            "Epoch 30/100\n",
            "31/31 [==============================] - ETA: 0s - loss: 0.4438 - accuracy: 0.8039\n",
            "Epoch 30: val_loss improved from 0.68081 to 0.64629, saving model to ResNet50_Model.hdf5\n",
            "31/31 [==============================] - 7s 219ms/step - loss: 0.4438 - accuracy: 0.8039 - val_loss: 0.6463 - val_accuracy: 0.7510 - lr: 3.4300e-04\n",
            "Epoch 31/100\n",
            "31/31 [==============================] - ETA: 0s - loss: 0.4598 - accuracy: 0.7982\n",
            "Epoch 31: val_loss did not improve from 0.64629\n",
            "31/31 [==============================] - 4s 114ms/step - loss: 0.4598 - accuracy: 0.7982 - val_loss: 0.6584 - val_accuracy: 0.7490 - lr: 3.4300e-04\n",
            "Epoch 32/100\n",
            "31/31 [==============================] - ETA: 0s - loss: 0.4496 - accuracy: 0.7946\n",
            "Epoch 32: val_loss improved from 0.64629 to 0.59901, saving model to ResNet50_Model.hdf5\n",
            "31/31 [==============================] - 5s 177ms/step - loss: 0.4496 - accuracy: 0.7946 - val_loss: 0.5990 - val_accuracy: 0.7751 - lr: 3.4300e-04\n",
            "Epoch 33/100\n",
            "31/31 [==============================] - ETA: 0s - loss: 0.4139 - accuracy: 0.8278\n",
            "Epoch 33: val_loss did not improve from 0.59901\n",
            "31/31 [==============================] - 4s 137ms/step - loss: 0.4139 - accuracy: 0.8278 - val_loss: 0.6280 - val_accuracy: 0.7550 - lr: 3.4300e-04\n",
            "Epoch 34/100\n",
            "31/31 [==============================] - ETA: 0s - loss: 0.4422 - accuracy: 0.8117\n",
            "Epoch 34: val_loss did not improve from 0.59901\n",
            "31/31 [==============================] - 4s 141ms/step - loss: 0.4422 - accuracy: 0.8117 - val_loss: 0.6928 - val_accuracy: 0.7430 - lr: 3.4300e-04\n",
            "Epoch 35/100\n",
            "31/31 [==============================] - ETA: 0s - loss: 0.4375 - accuracy: 0.8050\n",
            "Epoch 35: val_loss did not improve from 0.59901\n",
            "31/31 [==============================] - 4s 135ms/step - loss: 0.4375 - accuracy: 0.8050 - val_loss: 0.6414 - val_accuracy: 0.7751 - lr: 3.4300e-04\n",
            "Epoch 36/100\n",
            "31/31 [==============================] - ETA: 0s - loss: 0.4231 - accuracy: 0.8200\n",
            "Epoch 36: val_loss improved from 0.59901 to 0.55590, saving model to ResNet50_Model.hdf5\n",
            "31/31 [==============================] - 9s 275ms/step - loss: 0.4231 - accuracy: 0.8200 - val_loss: 0.5559 - val_accuracy: 0.7912 - lr: 3.4300e-04\n",
            "Epoch 37/100\n",
            "31/31 [==============================] - ETA: 0s - loss: 0.4228 - accuracy: 0.8102\n",
            "Epoch 37: val_loss improved from 0.55590 to 0.47186, saving model to ResNet50_Model.hdf5\n",
            "31/31 [==============================] - 6s 206ms/step - loss: 0.4228 - accuracy: 0.8102 - val_loss: 0.4719 - val_accuracy: 0.8173 - lr: 3.4300e-04\n",
            "Epoch 38/100\n",
            "31/31 [==============================] - ETA: 0s - loss: 0.4024 - accuracy: 0.8309\n",
            "Epoch 38: val_loss did not improve from 0.47186\n",
            "31/31 [==============================] - 4s 118ms/step - loss: 0.4024 - accuracy: 0.8309 - val_loss: 0.4839 - val_accuracy: 0.8133 - lr: 3.4300e-04\n",
            "Epoch 39/100\n",
            "31/31 [==============================] - ETA: 0s - loss: 0.3984 - accuracy: 0.8361\n",
            "Epoch 39: val_loss improved from 0.47186 to 0.41913, saving model to ResNet50_Model.hdf5\n",
            "31/31 [==============================] - 6s 194ms/step - loss: 0.3984 - accuracy: 0.8361 - val_loss: 0.4191 - val_accuracy: 0.8233 - lr: 3.4300e-04\n",
            "Epoch 40/100\n",
            "31/31 [==============================] - ETA: 0s - loss: 0.4058 - accuracy: 0.8242\n",
            "Epoch 40: val_loss improved from 0.41913 to 0.40700, saving model to ResNet50_Model.hdf5\n",
            "31/31 [==============================] - 6s 187ms/step - loss: 0.4058 - accuracy: 0.8242 - val_loss: 0.4070 - val_accuracy: 0.8293 - lr: 3.4300e-04\n",
            "Epoch 41/100\n",
            "31/31 [==============================] - ETA: 0s - loss: 0.4277 - accuracy: 0.8133\n",
            "Epoch 41: val_loss improved from 0.40700 to 0.40095, saving model to ResNet50_Model.hdf5\n",
            "31/31 [==============================] - 5s 170ms/step - loss: 0.4277 - accuracy: 0.8133 - val_loss: 0.4009 - val_accuracy: 0.8313 - lr: 3.4300e-04\n",
            "Epoch 42/100\n",
            "31/31 [==============================] - ETA: 0s - loss: 0.4094 - accuracy: 0.8330\n",
            "Epoch 42: val_loss improved from 0.40095 to 0.34474, saving model to ResNet50_Model.hdf5\n",
            "31/31 [==============================] - 7s 221ms/step - loss: 0.4094 - accuracy: 0.8330 - val_loss: 0.3447 - val_accuracy: 0.8514 - lr: 3.4300e-04\n",
            "Epoch 43/100\n",
            "31/31 [==============================] - ETA: 0s - loss: 0.3874 - accuracy: 0.8347\n",
            "Epoch 43: val_loss improved from 0.34474 to 0.33388, saving model to ResNet50_Model.hdf5\n",
            "31/31 [==============================] - 6s 207ms/step - loss: 0.3874 - accuracy: 0.8347 - val_loss: 0.3339 - val_accuracy: 0.8594 - lr: 3.4300e-04\n",
            "Epoch 44/100\n",
            "31/31 [==============================] - ETA: 0s - loss: 0.3787 - accuracy: 0.8320\n",
            "Epoch 44: val_loss improved from 0.33388 to 0.32590, saving model to ResNet50_Model.hdf5\n",
            "31/31 [==============================] - 6s 183ms/step - loss: 0.3787 - accuracy: 0.8320 - val_loss: 0.3259 - val_accuracy: 0.8594 - lr: 3.4300e-04\n",
            "Epoch 45/100\n",
            "31/31 [==============================] - ETA: 0s - loss: 0.3969 - accuracy: 0.8351\n",
            "Epoch 45: val_loss improved from 0.32590 to 0.31875, saving model to ResNet50_Model.hdf5\n",
            "31/31 [==============================] - 6s 178ms/step - loss: 0.3969 - accuracy: 0.8351 - val_loss: 0.3188 - val_accuracy: 0.8635 - lr: 3.4300e-04\n",
            "Epoch 46/100\n",
            "31/31 [==============================] - ETA: 0s - loss: 0.3727 - accuracy: 0.8392\n",
            "Epoch 46: val_loss did not improve from 0.31875\n",
            "31/31 [==============================] - 5s 161ms/step - loss: 0.3727 - accuracy: 0.8392 - val_loss: 0.3244 - val_accuracy: 0.8554 - lr: 3.4300e-04\n",
            "Epoch 47/100\n",
            "31/31 [==============================] - ETA: 0s - loss: 0.3668 - accuracy: 0.8423\n",
            "Epoch 47: val_loss did not improve from 0.31875\n",
            "31/31 [==============================] - 4s 130ms/step - loss: 0.3668 - accuracy: 0.8423 - val_loss: 0.3562 - val_accuracy: 0.8494 - lr: 3.4300e-04\n",
            "Epoch 48/100\n",
            "31/31 [==============================] - ETA: 0s - loss: 0.3838 - accuracy: 0.8423\n",
            "Epoch 48: val_loss did not improve from 0.31875\n",
            "31/31 [==============================] - 4s 129ms/step - loss: 0.3838 - accuracy: 0.8423 - val_loss: 0.3767 - val_accuracy: 0.8474 - lr: 3.4300e-04\n",
            "Epoch 49/100\n",
            "31/31 [==============================] - ETA: 0s - loss: 0.3709 - accuracy: 0.8356\n",
            "Epoch 49: val_loss did not improve from 0.31875\n",
            "31/31 [==============================] - 4s 126ms/step - loss: 0.3709 - accuracy: 0.8356 - val_loss: 0.3942 - val_accuracy: 0.8394 - lr: 3.4300e-04\n",
            "Epoch 50/100\n",
            "31/31 [==============================] - ETA: 0s - loss: 0.3653 - accuracy: 0.8496\n",
            "Epoch 50: ReduceLROnPlateau reducing learning rate to 0.00024009999469853935.\n",
            "\n",
            "Epoch 50: val_loss did not improve from 0.31875\n",
            "31/31 [==============================] - 4s 118ms/step - loss: 0.3653 - accuracy: 0.8496 - val_loss: 0.3295 - val_accuracy: 0.8554 - lr: 3.4300e-04\n",
            "Epoch 51/100\n",
            "31/31 [==============================] - ETA: 0s - loss: 0.3615 - accuracy: 0.8537\n",
            "Epoch 51: val_loss did not improve from 0.31875\n",
            "31/31 [==============================] - 5s 146ms/step - loss: 0.3615 - accuracy: 0.8537 - val_loss: 0.3224 - val_accuracy: 0.8594 - lr: 2.4010e-04\n",
            "Epoch 52/100\n",
            "31/31 [==============================] - ETA: 0s - loss: 0.3687 - accuracy: 0.8527\n",
            "Epoch 52: val_loss did not improve from 0.31875\n",
            "31/31 [==============================] - 4s 114ms/step - loss: 0.3687 - accuracy: 0.8527 - val_loss: 0.3257 - val_accuracy: 0.8614 - lr: 2.4010e-04\n",
            "Epoch 53/100\n",
            "31/31 [==============================] - ETA: 0s - loss: 0.3681 - accuracy: 0.8579\n",
            "Epoch 53: val_loss did not improve from 0.31875\n",
            "31/31 [==============================] - 4s 118ms/step - loss: 0.3681 - accuracy: 0.8579 - val_loss: 0.3275 - val_accuracy: 0.8574 - lr: 2.4010e-04\n",
            "Epoch 54/100\n",
            "31/31 [==============================] - ETA: 0s - loss: 0.3830 - accuracy: 0.8428\n",
            "Epoch 54: val_loss did not improve from 0.31875\n",
            "31/31 [==============================] - 5s 160ms/step - loss: 0.3830 - accuracy: 0.8428 - val_loss: 0.3914 - val_accuracy: 0.8414 - lr: 2.4010e-04\n",
            "Epoch 55/100\n",
            "31/31 [==============================] - ETA: 0s - loss: 0.3675 - accuracy: 0.8517\n",
            "Epoch 55: ReduceLROnPlateau reducing learning rate to 0.00016806999628897755.\n",
            "\n",
            "Epoch 55: val_loss did not improve from 0.31875\n",
            "31/31 [==============================] - 4s 119ms/step - loss: 0.3675 - accuracy: 0.8517 - val_loss: 0.3701 - val_accuracy: 0.8534 - lr: 2.4010e-04\n",
            "Epoch 56/100\n",
            "31/31 [==============================] - ETA: 0s - loss: 0.3642 - accuracy: 0.8377\n",
            "Epoch 56: val_loss improved from 0.31875 to 0.31672, saving model to ResNet50_Model.hdf5\n",
            "31/31 [==============================] - 9s 280ms/step - loss: 0.3642 - accuracy: 0.8377 - val_loss: 0.3167 - val_accuracy: 0.8635 - lr: 1.6807e-04\n",
            "Epoch 57/100\n",
            "31/31 [==============================] - ETA: 0s - loss: 0.3714 - accuracy: 0.8543\n",
            "Epoch 57: val_loss improved from 0.31672 to 0.31422, saving model to ResNet50_Model.hdf5\n",
            "31/31 [==============================] - 5s 173ms/step - loss: 0.3714 - accuracy: 0.8543 - val_loss: 0.3142 - val_accuracy: 0.8635 - lr: 1.6807e-04\n",
            "Epoch 58/100\n",
            "31/31 [==============================] - ETA: 0s - loss: 0.3610 - accuracy: 0.8470\n",
            "Epoch 58: val_loss did not improve from 0.31422\n",
            "31/31 [==============================] - 4s 115ms/step - loss: 0.3610 - accuracy: 0.8470 - val_loss: 0.3342 - val_accuracy: 0.8594 - lr: 1.6807e-04\n",
            "Epoch 59/100\n",
            "31/31 [==============================] - ETA: 0s - loss: 0.3535 - accuracy: 0.8460\n",
            "Epoch 59: val_loss did not improve from 0.31422\n",
            "31/31 [==============================] - 5s 162ms/step - loss: 0.3535 - accuracy: 0.8460 - val_loss: 0.3285 - val_accuracy: 0.8614 - lr: 1.6807e-04\n",
            "Epoch 60/100\n",
            "31/31 [==============================] - ETA: 0s - loss: 0.3567 - accuracy: 0.8568\n",
            "Epoch 60: ReduceLROnPlateau reducing learning rate to 0.00011764899536501615.\n",
            "\n",
            "Epoch 60: val_loss did not improve from 0.31422\n",
            "31/31 [==============================] - 4s 132ms/step - loss: 0.3567 - accuracy: 0.8568 - val_loss: 0.3347 - val_accuracy: 0.8614 - lr: 1.6807e-04\n",
            "Epoch 61/100\n",
            "31/31 [==============================] - ETA: 0s - loss: 0.3709 - accuracy: 0.8465\n",
            "Epoch 61: val_loss did not improve from 0.31422\n",
            "31/31 [==============================] - 4s 117ms/step - loss: 0.3709 - accuracy: 0.8465 - val_loss: 0.3427 - val_accuracy: 0.8574 - lr: 1.1765e-04\n",
            "Epoch 62/100\n",
            "31/31 [==============================] - ETA: 0s - loss: 0.3550 - accuracy: 0.8594\n",
            "Epoch 62: val_loss did not improve from 0.31422\n",
            "31/31 [==============================] - 4s 122ms/step - loss: 0.3550 - accuracy: 0.8594 - val_loss: 0.3490 - val_accuracy: 0.8534 - lr: 1.1765e-04\n",
            "Epoch 63/100\n",
            "31/31 [==============================] - ETA: 0s - loss: 0.3463 - accuracy: 0.8553\n",
            "Epoch 63: val_loss did not improve from 0.31422\n",
            "31/31 [==============================] - 4s 114ms/step - loss: 0.3463 - accuracy: 0.8553 - val_loss: 0.3542 - val_accuracy: 0.8534 - lr: 1.1765e-04\n",
            "Epoch 64/100\n",
            "31/31 [==============================] - ETA: 0s - loss: 0.3502 - accuracy: 0.8610\n",
            "Epoch 64: val_loss did not improve from 0.31422\n",
            "31/31 [==============================] - 4s 115ms/step - loss: 0.3502 - accuracy: 0.8610 - val_loss: 0.3576 - val_accuracy: 0.8514 - lr: 1.1765e-04\n",
            "Epoch 65/100\n",
            "31/31 [==============================] - ETA: 0s - loss: 0.3545 - accuracy: 0.8532\n",
            "Epoch 65: ReduceLROnPlateau reducing learning rate to 0.0001.\n",
            "\n",
            "Epoch 65: val_loss did not improve from 0.31422\n",
            "31/31 [==============================] - 5s 160ms/step - loss: 0.3545 - accuracy: 0.8532 - val_loss: 0.3389 - val_accuracy: 0.8534 - lr: 1.1765e-04\n",
            "Epoch 66/100\n",
            "31/31 [==============================] - ETA: 0s - loss: 0.3522 - accuracy: 0.8553\n",
            "Epoch 66: val_loss did not improve from 0.31422\n",
            "31/31 [==============================] - 4s 114ms/step - loss: 0.3522 - accuracy: 0.8553 - val_loss: 0.3196 - val_accuracy: 0.8594 - lr: 1.0000e-04\n",
            "Epoch 67/100\n",
            "31/31 [==============================] - ETA: 0s - loss: 0.3441 - accuracy: 0.8600\n",
            "Epoch 67: val_loss did not improve from 0.31422\n",
            "31/31 [==============================] - 4s 123ms/step - loss: 0.3441 - accuracy: 0.8600 - val_loss: 0.3358 - val_accuracy: 0.8554 - lr: 1.0000e-04\n",
            "Epoch 68/100\n",
            "31/31 [==============================] - ETA: 0s - loss: 0.3551 - accuracy: 0.8600\n",
            "Epoch 68: val_loss did not improve from 0.31422\n",
            "31/31 [==============================] - 4s 122ms/step - loss: 0.3551 - accuracy: 0.8600 - val_loss: 0.3217 - val_accuracy: 0.8594 - lr: 1.0000e-04\n",
            "Epoch 69/100\n",
            "31/31 [==============================] - ETA: 0s - loss: 0.3512 - accuracy: 0.8491\n",
            "Epoch 69: val_loss improved from 0.31422 to 0.29988, saving model to ResNet50_Model.hdf5\n",
            "31/31 [==============================] - 10s 326ms/step - loss: 0.3512 - accuracy: 0.8491 - val_loss: 0.2999 - val_accuracy: 0.8775 - lr: 1.0000e-04\n",
            "Epoch 70/100\n",
            "31/31 [==============================] - ETA: 0s - loss: 0.3580 - accuracy: 0.8522\n",
            "Epoch 70: val_loss improved from 0.29988 to 0.29935, saving model to ResNet50_Model.hdf5\n",
            "31/31 [==============================] - 5s 169ms/step - loss: 0.3580 - accuracy: 0.8522 - val_loss: 0.2994 - val_accuracy: 0.8795 - lr: 1.0000e-04\n",
            "Epoch 71/100\n",
            "31/31 [==============================] - ETA: 0s - loss: 0.3457 - accuracy: 0.8553\n",
            "Epoch 71: val_loss did not improve from 0.29935\n",
            "31/31 [==============================] - 4s 133ms/step - loss: 0.3457 - accuracy: 0.8553 - val_loss: 0.3034 - val_accuracy: 0.8755 - lr: 1.0000e-04\n",
            "Epoch 72/100\n",
            "31/31 [==============================] - ETA: 0s - loss: 0.3623 - accuracy: 0.8496\n",
            "Epoch 72: val_loss improved from 0.29935 to 0.29602, saving model to ResNet50_Model.hdf5\n",
            "31/31 [==============================] - 9s 277ms/step - loss: 0.3623 - accuracy: 0.8496 - val_loss: 0.2960 - val_accuracy: 0.8775 - lr: 1.0000e-04\n",
            "Epoch 73/100\n",
            "31/31 [==============================] - ETA: 0s - loss: 0.3415 - accuracy: 0.8553\n",
            "Epoch 73: val_loss did not improve from 0.29602\n",
            "31/31 [==============================] - 4s 117ms/step - loss: 0.3415 - accuracy: 0.8553 - val_loss: 0.2964 - val_accuracy: 0.8775 - lr: 1.0000e-04\n",
            "Epoch 74/100\n",
            "31/31 [==============================] - ETA: 0s - loss: 0.3324 - accuracy: 0.8698\n",
            "Epoch 74: val_loss did not improve from 0.29602\n",
            "31/31 [==============================] - 4s 115ms/step - loss: 0.3324 - accuracy: 0.8698 - val_loss: 0.3040 - val_accuracy: 0.8795 - lr: 1.0000e-04\n",
            "Epoch 75/100\n",
            "31/31 [==============================] - ETA: 0s - loss: 0.3519 - accuracy: 0.8615\n",
            "Epoch 75: val_loss improved from 0.29602 to 0.29538, saving model to ResNet50_Model.hdf5\n",
            "31/31 [==============================] - 9s 304ms/step - loss: 0.3519 - accuracy: 0.8615 - val_loss: 0.2954 - val_accuracy: 0.8755 - lr: 1.0000e-04\n",
            "Epoch 76/100\n",
            "31/31 [==============================] - ETA: 0s - loss: 0.3343 - accuracy: 0.8579\n",
            "Epoch 76: val_loss improved from 0.29538 to 0.29423, saving model to ResNet50_Model.hdf5\n",
            "31/31 [==============================] - 6s 185ms/step - loss: 0.3343 - accuracy: 0.8579 - val_loss: 0.2942 - val_accuracy: 0.8715 - lr: 1.0000e-04\n",
            "Epoch 77/100\n",
            "31/31 [==============================] - ETA: 0s - loss: 0.3386 - accuracy: 0.8641\n",
            "Epoch 77: val_loss improved from 0.29423 to 0.29415, saving model to ResNet50_Model.hdf5\n",
            "31/31 [==============================] - 5s 170ms/step - loss: 0.3386 - accuracy: 0.8641 - val_loss: 0.2942 - val_accuracy: 0.8735 - lr: 1.0000e-04\n",
            "Epoch 78/100\n",
            "31/31 [==============================] - ETA: 0s - loss: 0.3259 - accuracy: 0.8672\n",
            "Epoch 78: val_loss did not improve from 0.29415\n",
            "31/31 [==============================] - 5s 161ms/step - loss: 0.3259 - accuracy: 0.8672 - val_loss: 0.2956 - val_accuracy: 0.8775 - lr: 1.0000e-04\n",
            "Epoch 79/100\n",
            "31/31 [==============================] - ETA: 0s - loss: 0.3316 - accuracy: 0.8589\n",
            "Epoch 79: val_loss did not improve from 0.29415\n",
            "31/31 [==============================] - 4s 114ms/step - loss: 0.3316 - accuracy: 0.8589 - val_loss: 0.2987 - val_accuracy: 0.8775 - lr: 1.0000e-04\n",
            "Epoch 80/100\n",
            "31/31 [==============================] - ETA: 0s - loss: 0.3328 - accuracy: 0.8690\n",
            "Epoch 80: val_loss did not improve from 0.29415\n",
            "31/31 [==============================] - 4s 135ms/step - loss: 0.3328 - accuracy: 0.8690 - val_loss: 0.3059 - val_accuracy: 0.8775 - lr: 1.0000e-04\n",
            "Epoch 81/100\n",
            "31/31 [==============================] - ETA: 0s - loss: 0.3476 - accuracy: 0.8537\n",
            "Epoch 81: val_loss did not improve from 0.29415\n",
            "31/31 [==============================] - 5s 162ms/step - loss: 0.3476 - accuracy: 0.8537 - val_loss: 0.3192 - val_accuracy: 0.8675 - lr: 1.0000e-04\n",
            "Epoch 82/100\n",
            "31/31 [==============================] - ETA: 0s - loss: 0.3500 - accuracy: 0.8579\n",
            "Epoch 82: val_loss did not improve from 0.29415\n",
            "31/31 [==============================] - 4s 121ms/step - loss: 0.3500 - accuracy: 0.8579 - val_loss: 0.3219 - val_accuracy: 0.8655 - lr: 1.0000e-04\n",
            "Epoch 83/100\n",
            "31/31 [==============================] - ETA: 0s - loss: 0.3337 - accuracy: 0.8662\n",
            "Epoch 83: val_loss did not improve from 0.29415\n",
            "31/31 [==============================] - 4s 113ms/step - loss: 0.3337 - accuracy: 0.8662 - val_loss: 0.3251 - val_accuracy: 0.8635 - lr: 1.0000e-04\n",
            "Epoch 84/100\n",
            "31/31 [==============================] - ETA: 0s - loss: 0.3467 - accuracy: 0.8615\n",
            "Epoch 84: val_loss did not improve from 0.29415\n",
            "31/31 [==============================] - 5s 162ms/step - loss: 0.3467 - accuracy: 0.8615 - val_loss: 0.3296 - val_accuracy: 0.8635 - lr: 1.0000e-04\n",
            "Epoch 85/100\n",
            "31/31 [==============================] - ETA: 0s - loss: 0.3370 - accuracy: 0.8662\n",
            "Epoch 85: val_loss did not improve from 0.29415\n",
            "31/31 [==============================] - 4s 118ms/step - loss: 0.3370 - accuracy: 0.8662 - val_loss: 0.3271 - val_accuracy: 0.8655 - lr: 1.0000e-04\n",
            "Epoch 86/100\n",
            "31/31 [==============================] - ETA: 0s - loss: 0.3437 - accuracy: 0.8620\n",
            "Epoch 86: val_loss did not improve from 0.29415\n",
            "31/31 [==============================] - 4s 117ms/step - loss: 0.3437 - accuracy: 0.8620 - val_loss: 0.3267 - val_accuracy: 0.8655 - lr: 1.0000e-04\n",
            "Epoch 87/100\n",
            "31/31 [==============================] - ETA: 0s - loss: 0.3306 - accuracy: 0.8600\n",
            "Epoch 87: val_loss did not improve from 0.29415\n",
            "31/31 [==============================] - 5s 165ms/step - loss: 0.3306 - accuracy: 0.8600 - val_loss: 0.3186 - val_accuracy: 0.8715 - lr: 1.0000e-04\n",
            "Epoch 88/100\n",
            "31/31 [==============================] - ETA: 0s - loss: 0.3460 - accuracy: 0.8543\n",
            "Epoch 88: val_loss did not improve from 0.29415\n",
            "31/31 [==============================] - 4s 117ms/step - loss: 0.3460 - accuracy: 0.8543 - val_loss: 0.3067 - val_accuracy: 0.8735 - lr: 1.0000e-04\n",
            "Epoch 89/100\n",
            "31/31 [==============================] - ETA: 0s - loss: 0.3188 - accuracy: 0.8636\n",
            "Epoch 89: val_loss did not improve from 0.29415\n",
            "31/31 [==============================] - 4s 116ms/step - loss: 0.3188 - accuracy: 0.8636 - val_loss: 0.3057 - val_accuracy: 0.8755 - lr: 1.0000e-04\n",
            "Epoch 90/100\n",
            "31/31 [==============================] - ETA: 0s - loss: 0.3262 - accuracy: 0.8714\n",
            "Epoch 90: val_loss did not improve from 0.29415\n",
            "31/31 [==============================] - 5s 165ms/step - loss: 0.3262 - accuracy: 0.8714 - val_loss: 0.3054 - val_accuracy: 0.8735 - lr: 1.0000e-04\n",
            "Epoch 91/100\n",
            "31/31 [==============================] - ETA: 0s - loss: 0.3459 - accuracy: 0.8600\n",
            "Epoch 91: val_loss did not improve from 0.29415\n",
            "31/31 [==============================] - 4s 114ms/step - loss: 0.3459 - accuracy: 0.8600 - val_loss: 0.3127 - val_accuracy: 0.8735 - lr: 1.0000e-04\n",
            "Epoch 92/100\n",
            "31/31 [==============================] - ETA: 0s - loss: 0.3268 - accuracy: 0.8667\n",
            "Epoch 92: val_loss did not improve from 0.29415\n",
            "31/31 [==============================] - 4s 114ms/step - loss: 0.3268 - accuracy: 0.8667 - val_loss: 0.3097 - val_accuracy: 0.8775 - lr: 1.0000e-04\n",
            "Epoch 93/100\n",
            "31/31 [==============================] - ETA: 0s - loss: 0.3382 - accuracy: 0.8631\n",
            "Epoch 93: val_loss did not improve from 0.29415\n",
            "31/31 [==============================] - 5s 147ms/step - loss: 0.3382 - accuracy: 0.8631 - val_loss: 0.3182 - val_accuracy: 0.8735 - lr: 1.0000e-04\n",
            "Epoch 94/100\n",
            "31/31 [==============================] - ETA: 0s - loss: 0.3217 - accuracy: 0.8672\n",
            "Epoch 94: val_loss did not improve from 0.29415\n",
            "31/31 [==============================] - 4s 128ms/step - loss: 0.3217 - accuracy: 0.8672 - val_loss: 0.3194 - val_accuracy: 0.8675 - lr: 1.0000e-04\n",
            "Epoch 95/100\n",
            "31/31 [==============================] - ETA: 0s - loss: 0.3343 - accuracy: 0.8646\n",
            "Epoch 95: val_loss did not improve from 0.29415\n",
            "31/31 [==============================] - 4s 118ms/step - loss: 0.3343 - accuracy: 0.8646 - val_loss: 0.3096 - val_accuracy: 0.8755 - lr: 1.0000e-04\n",
            "Epoch 96/100\n",
            "31/31 [==============================] - ETA: 0s - loss: 0.3092 - accuracy: 0.8771\n",
            "Epoch 96: val_loss did not improve from 0.29415\n",
            "31/31 [==============================] - 5s 147ms/step - loss: 0.3092 - accuracy: 0.8771 - val_loss: 0.3119 - val_accuracy: 0.8755 - lr: 1.0000e-04\n",
            "Epoch 97/100\n",
            "31/31 [==============================] - ETA: 0s - loss: 0.3212 - accuracy: 0.8802\n",
            "Epoch 97: val_loss did not improve from 0.29415\n",
            "31/31 [==============================] - 4s 114ms/step - loss: 0.3212 - accuracy: 0.8802 - val_loss: 0.3413 - val_accuracy: 0.8554 - lr: 1.0000e-04\n",
            "Epoch 98/100\n",
            "31/31 [==============================] - ETA: 0s - loss: 0.3392 - accuracy: 0.8615\n",
            "Epoch 98: val_loss did not improve from 0.29415\n",
            "31/31 [==============================] - 4s 116ms/step - loss: 0.3392 - accuracy: 0.8615 - val_loss: 0.3836 - val_accuracy: 0.8514 - lr: 1.0000e-04\n",
            "Epoch 99/100\n",
            "31/31 [==============================] - ETA: 0s - loss: 0.3177 - accuracy: 0.8683\n",
            "Epoch 99: val_loss did not improve from 0.29415\n",
            "31/31 [==============================] - 4s 130ms/step - loss: 0.3177 - accuracy: 0.8683 - val_loss: 0.3845 - val_accuracy: 0.8494 - lr: 1.0000e-04\n",
            "Epoch 100/100\n",
            "31/31 [==============================] - ETA: 0s - loss: 0.3222 - accuracy: 0.8641\n",
            "Epoch 100: val_loss did not improve from 0.29415\n",
            "31/31 [==============================] - 4s 128ms/step - loss: 0.3222 - accuracy: 0.8641 - val_loss: 0.3869 - val_accuracy: 0.8454 - lr: 1.0000e-04\n"
          ]
        }
      ]
    },
    {
      "cell_type": "code",
      "source": [
        "\n",
        "acc = history.history['accuracy']\n",
        "val_acc = history.history['val_accuracy']\n",
        "loss = history.history['loss']\n",
        "val_loss = history.history['val_loss']"
      ],
      "metadata": {
        "id": "M-eocV_Y2vYU"
      },
      "execution_count": null,
      "outputs": []
    },
    {
      "cell_type": "code",
      "source": [
        "epochs = range(len(acc))\n",
        "plt.plot(epochs, acc, 'r', label='Training accuracy')\n",
        "plt.plot(epochs, val_acc, 'b', label='Validation accuracy')\n",
        "plt.title('TraiN & Val Acc VS Epochs')\n",
        "plt.legend(loc=0)\n",
        "plt.figure()\n",
        "plt.show()\n"
      ],
      "metadata": {
        "colab": {
          "base_uri": "https://localhost:8080/",
          "height": 469
        },
        "id": "LS6Apb8U2yJN",
        "outputId": "e7236ce8-3418-453a-dcd6-c384d62848e1"
      },
      "execution_count": null,
      "outputs": [
        {
          "output_type": "display_data",
          "data": {
            "text/plain": [
              "<Figure size 640x480 with 1 Axes>"
            ],
            "image/png": "[encoded data removed]"
          },
          "metadata": {}
        },
        {
          "output_type": "display_data",
          "data": {
            "text/plain": [
              "<Figure size 640x480 with 0 Axes>"
            ]
          },
          "metadata": {}
        }
      ]
    },
    {
      "cell_type": "code",
      "source": [
        "\n",
        "epochs = range(len(acc))\n",
        "plt.plot(epochs, loss, 'r', label='Training Loss')\n",
        "plt.plot(epochs, val_loss, 'b', label='Validation Loss')\n",
        "plt.title('TraiN & Val Loss VS Epochs')\n",
        "plt.legend(loc=0)\n",
        "plt.figure()\n",
        "plt.show()"
      ],
      "metadata": {
        "colab": {
          "base_uri": "https://localhost:8080/",
          "height": 469
        },
        "id": "8gpUoKKa21XT",
        "outputId": "0cf50183-0e82-4b92-9dc2-5d458091de1a"
      },
      "execution_count": null,
      "outputs": [
        {
          "output_type": "display_data",
          "data": {
            "text/plain": [
              "<Figure size 640x480 with 1 Axes>"
            ],
            "image/png": "[encoded data removed]"
          },
          "metadata": {}
        },
        {
          "output_type": "display_data",
          "data": {
            "text/plain": [
              "<Figure size 640x480 with 0 Axes>"
            ]
          },
          "metadata": {}
        }
      ]
    },
    {
      "cell_type": "code",
      "source": [
        "model.load_weights(\"ResNet50_Model.hdf5\")\n",
        "score = model.evaluate(X_val, Y_val ,verbose=1)\n",
        "print('Test Loss:', score[0])\n",
        "print('Test accuracy:', score[1]*100)"
      ],
      "metadata": {
        "colab": {
          "base_uri": "https://localhost:8080/"
        },
        "id": "HXaMEhx724pJ",
        "outputId": "f407ac73-d4c2-4a75-ec6e-0393772a6d14"
      },
      "execution_count": null,
      "outputs": [
        {
          "output_type": "stream",
          "name": "stdout",
          "text": [
            "16/16 [==============================] - 0s 21ms/step - loss: 0.2942 - accuracy: 0.8735\n",
            "Test Loss: 0.2941526770591736\n",
            "Test accuracy: 87.34939694404602\n"
          ]
        }
      ]
    },
    {
      "cell_type": "code",
      "source": [
        "Y_pred = model.predict(X_val)\n",
        "Y_predx = np.argmax(Y_pred, axis = -1)\n",
        "Y_valx = np.argmax(Y_val, axis = -1)\n",
        "cf_matrix = confusion_matrix(Y_valx, Y_predx)\n",
        "group_names = ['True Neg','False Pos','False Neg','True Pos']\n",
        "group_counts = [\"{0:0.0f}\".format(value) for value in\n",
        "                cf_matrix.flatten()]\n",
        "group_percentages = [\"{0:.2%}\".format(value) for value in\n",
        "                     cf_matrix.flatten()/np.sum(cf_matrix)]\n",
        "labels = [f\"{v1}\\n{v2}\\n{v3}\" for v1, v2, v3 in\n",
        "          zip(group_names,group_counts,group_percentages)]\n",
        "labels = np.asarray(labels).reshape(2,2)\n",
        "sns.heatmap(cf_matrix, annot = labels, fmt = '')\n",
        "plt.title(\"Confusion Matrix\")\n"
      ],
      "metadata": {
        "id": "58oxLwvs29HJ",
        "outputId": "ddf1c404-066a-4068-aab8-19d8ea157235",
        "colab": {
          "base_uri": "https://localhost:8080/",
          "height": 487
        }
      },
      "execution_count": null,
      "outputs": [
        {
          "output_type": "stream",
          "name": "stdout",
          "text": [
            "16/16 [==============================] - 2s 21ms/step\n"
          ]
        },
        {
          "output_type": "execute_result",
          "data": {
            "text/plain": [
              "Text(0.5, 1.0, 'Confusion Matrix')"
            ]
          },
          "metadata": {},
          "execution_count": 22
        },
        {
          "output_type": "display_data",
          "data": {
            "text/plain": [
              "<Figure size 640x480 with 2 Axes>"
            ],
            "image/png": "[encoded data removed]"
          },
          "metadata": {}
        }
      ]
    },
    {
      "cell_type": "code",
      "source": [
        "from sklearn.metrics import classification_report\n",
        "\n",
        "target_names = ['COVID', 'non-COVID']\n",
        "\n",
        "cf_matrix = confusion_matrix(Y_valx, Y_predx)\n",
        "\n",
        "print(classification_report(Y_valx, Y_predx, target_names=target_names))"
      ],
      "metadata": {
        "colab": {
          "base_uri": "https://localhost:8080/"
        },
        "id": "jaJibFMu3F5Y",
        "outputId": "4baabae1-647b-4d18-a4ac-469af4d534da"
      },
      "execution_count": null,
      "outputs": [
        {
          "output_type": "stream",
          "name": "stdout",
          "text": [
            "              precision    recall  f1-score   support\n",
            "\n",
            "       COVID       0.88      0.85      0.87       243\n",
            "   non-COVID       0.86      0.89      0.88       255\n",
            "\n",
            "    accuracy                           0.87       498\n",
            "   macro avg       0.87      0.87      0.87       498\n",
            "weighted avg       0.87      0.87      0.87       498\n",
            "\n"
          ]
        }
      ]
    }
  ]
}